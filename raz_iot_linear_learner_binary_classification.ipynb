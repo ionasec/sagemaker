{
 "cells": [
  {
   "cell_type": "markdown",
   "metadata": {},
   "source": [
    "Read Stream Data from S3 in JSON format\n",
    "https://towardsdatascience.com/how-to-read-data-files-on-s3-from-amazon-sagemaker-f288850bfe8f"
   ]
  },
  {
   "cell_type": "code",
   "execution_count": 2,
   "metadata": {},
   "outputs": [],
   "source": [
    "import boto3\n",
    "import json\n",
    "import pandas as pd\n",
    "from sagemaker import get_execution_role\n",
    "\n",
    "bucket = 'raz-eu-central-1-tutorial'\n",
    "prefix = 'kinesis-analytics/'\n",
    "\n",
    "\n",
    "role = get_execution_role()\n"
   ]
  },
  {
   "cell_type": "code",
   "execution_count": 27,
   "metadata": {},
   "outputs": [
    {
     "name": "stdout",
     "output_type": "stream",
     "text": [
      "CPU times: user 12.9 s, sys: 69 ms, total: 13 s\n",
      "Wall time: 33 s\n"
     ]
    },
    {
     "data": {
      "text/html": [
       "<div>\n",
       "<style scoped>\n",
       "    .dataframe tbody tr th:only-of-type {\n",
       "        vertical-align: middle;\n",
       "    }\n",
       "\n",
       "    .dataframe tbody tr th {\n",
       "        vertical-align: top;\n",
       "    }\n",
       "\n",
       "    .dataframe thead th {\n",
       "        text-align: right;\n",
       "    }\n",
       "</style>\n",
       "<table border=\"1\" class=\"dataframe\">\n",
       "  <thead>\n",
       "    <tr style=\"text-align: right;\">\n",
       "      <th></th>\n",
       "      <th>PRESSURE</th>\n",
       "      <th>EVENT_TIME</th>\n",
       "      <th>TEMPERATURE</th>\n",
       "      <th>HUMIDITY</th>\n",
       "      <th>ANOMALY_SCORE</th>\n",
       "    </tr>\n",
       "  </thead>\n",
       "  <tbody>\n",
       "    <tr>\n",
       "      <th>0</th>\n",
       "      <td>989.938041</td>\n",
       "      <td>2020-11-22 22:00:31.760894</td>\n",
       "      <td>20.38</td>\n",
       "      <td>42.347507</td>\n",
       "      <td>1.307758</td>\n",
       "    </tr>\n",
       "    <tr>\n",
       "      <th>1</th>\n",
       "      <td>989.916192</td>\n",
       "      <td>2020-11-22 22:00:32.872372</td>\n",
       "      <td>20.39</td>\n",
       "      <td>42.359085</td>\n",
       "      <td>1.289527</td>\n",
       "    </tr>\n",
       "    <tr>\n",
       "      <th>2</th>\n",
       "      <td>989.885988</td>\n",
       "      <td>2020-11-22 22:00:33.990491</td>\n",
       "      <td>20.38</td>\n",
       "      <td>42.370639</td>\n",
       "      <td>1.196880</td>\n",
       "    </tr>\n",
       "    <tr>\n",
       "      <th>3</th>\n",
       "      <td>989.864618</td>\n",
       "      <td>2020-11-22 22:00:35.105371</td>\n",
       "      <td>20.38</td>\n",
       "      <td>42.370614</td>\n",
       "      <td>1.304555</td>\n",
       "    </tr>\n",
       "    <tr>\n",
       "      <th>4</th>\n",
       "      <td>989.942219</td>\n",
       "      <td>2020-11-22 22:00:36.217284</td>\n",
       "      <td>20.39</td>\n",
       "      <td>42.370651</td>\n",
       "      <td>1.298816</td>\n",
       "    </tr>\n",
       "  </tbody>\n",
       "</table>\n",
       "</div>"
      ],
      "text/plain": [
       "     PRESSURE                 EVENT_TIME  TEMPERATURE   HUMIDITY  \\\n",
       "0  989.938041 2020-11-22 22:00:31.760894        20.38  42.347507   \n",
       "1  989.916192 2020-11-22 22:00:32.872372        20.39  42.359085   \n",
       "2  989.885988 2020-11-22 22:00:33.990491        20.38  42.370639   \n",
       "3  989.864618 2020-11-22 22:00:35.105371        20.38  42.370614   \n",
       "4  989.942219 2020-11-22 22:00:36.217284        20.39  42.370651   \n",
       "\n",
       "   ANOMALY_SCORE  \n",
       "0       1.307758  \n",
       "1       1.289527  \n",
       "2       1.196880  \n",
       "3       1.304555  \n",
       "4       1.298816  "
      ]
     },
     "execution_count": 27,
     "metadata": {},
     "output_type": "execute_result"
    }
   ],
   "source": [
    "%%time\n",
    "#list the content of the bucket / prefix\n",
    "conn = boto3.client('s3')\n",
    "contents = conn.list_objects(Bucket=bucket, Prefix=prefix)['Contents']\n",
    "\n",
    "data = pd.DataFrame()\n",
    "\n",
    "for f in contents:\n",
    "    response = conn.get_object(Bucket=bucket, Key=f['Key'])\n",
    "    if response['ContentType'] == 'application/octet-stream':\n",
    "        #print(f['Key'])\n",
    "        body = response['Body']\n",
    "        #jsonObject = body.read()\n",
    "        #print(jsonObject)\n",
    "        temp = pd.read_json(body,lines=True)\n",
    "        data = data.append(temp)\n",
    "data.head()"
   ]
  },
  {
   "cell_type": "code",
   "execution_count": 22,
   "metadata": {},
   "outputs": [
    {
     "name": "stderr",
     "output_type": "stream",
     "text": [
      "UsageError: Line magic function `%%time` not found.\n"
     ]
    }
   ],
   "source": [
    "#show number of rows and columns\n",
    "%%time\n",
    "data.shape"
   ]
  },
  {
   "cell_type": "markdown",
   "metadata": {},
   "source": [
    "Scatter plot of temperature and Anomaly score\n",
    "https://pandas.pydata.org/pandas-docs/stable/reference/api/pandas.DataFrame.plot.scatter.html"
   ]
  },
  {
   "cell_type": "code",
   "execution_count": 31,
   "metadata": {},
   "outputs": [
    {
     "data": {
      "image/png": "[encoded data removed]",
      "text/plain": [
       "<Figure size 432x288 with 1 Axes>"
      ]
     },
     "metadata": {
      "needs_background": "light"
     },
     "output_type": "display_data"
    }
   ],
   "source": [
    "ax1 = data.plot.scatter(x='TEMPERATURE',\n",
    "                      y='ANOMALY_SCORE',\n",
    "                      c='DarkBlue')"
   ]
  },
  {
   "cell_type": "markdown",
   "metadata": {},
   "source": [
    "Binarize the anomaly score column with the threshold of 2 and move the column to the front of the table to sever as label column\n",
    "https://stackoverflow.com/questions/40717156/binarize-integer-in-a-pandas-dataframe"
   ]
  },
  {
   "cell_type": "code",
   "execution_count": 32,
   "metadata": {},
   "outputs": [
    {
     "data": {
      "text/html": [
       "<div>\n",
       "<style scoped>\n",
       "    .dataframe tbody tr th:only-of-type {\n",
       "        vertical-align: middle;\n",
       "    }\n",
       "\n",
       "    .dataframe tbody tr th {\n",
       "        vertical-align: top;\n",
       "    }\n",
       "\n",
       "    .dataframe thead th {\n",
       "        text-align: right;\n",
       "    }\n",
       "</style>\n",
       "<table border=\"1\" class=\"dataframe\">\n",
       "  <thead>\n",
       "    <tr style=\"text-align: right;\">\n",
       "      <th></th>\n",
       "      <th>PRESSURE</th>\n",
       "      <th>EVENT_TIME</th>\n",
       "      <th>TEMPERATURE</th>\n",
       "      <th>HUMIDITY</th>\n",
       "      <th>ANOMALY_SCORE</th>\n",
       "    </tr>\n",
       "  </thead>\n",
       "  <tbody>\n",
       "    <tr>\n",
       "      <th>0</th>\n",
       "      <td>989.938041</td>\n",
       "      <td>2020-11-22 22:00:31.760894</td>\n",
       "      <td>20.38</td>\n",
       "      <td>42.347507</td>\n",
       "      <td>0</td>\n",
       "    </tr>\n",
       "    <tr>\n",
       "      <th>1</th>\n",
       "      <td>989.916192</td>\n",
       "      <td>2020-11-22 22:00:32.872372</td>\n",
       "      <td>20.39</td>\n",
       "      <td>42.359085</td>\n",
       "      <td>0</td>\n",
       "    </tr>\n",
       "    <tr>\n",
       "      <th>2</th>\n",
       "      <td>989.885988</td>\n",
       "      <td>2020-11-22 22:00:33.990491</td>\n",
       "      <td>20.38</td>\n",
       "      <td>42.370639</td>\n",
       "      <td>0</td>\n",
       "    </tr>\n",
       "    <tr>\n",
       "      <th>3</th>\n",
       "      <td>989.864618</td>\n",
       "      <td>2020-11-22 22:00:35.105371</td>\n",
       "      <td>20.38</td>\n",
       "      <td>42.370614</td>\n",
       "      <td>0</td>\n",
       "    </tr>\n",
       "    <tr>\n",
       "      <th>4</th>\n",
       "      <td>989.942219</td>\n",
       "      <td>2020-11-22 22:00:36.217284</td>\n",
       "      <td>20.39</td>\n",
       "      <td>42.370651</td>\n",
       "      <td>0</td>\n",
       "    </tr>\n",
       "  </tbody>\n",
       "</table>\n",
       "</div>"
      ],
      "text/plain": [
       "     PRESSURE                 EVENT_TIME  TEMPERATURE   HUMIDITY  \\\n",
       "0  989.938041 2020-11-22 22:00:31.760894        20.38  42.347507   \n",
       "1  989.916192 2020-11-22 22:00:32.872372        20.39  42.359085   \n",
       "2  989.885988 2020-11-22 22:00:33.990491        20.38  42.370639   \n",
       "3  989.864618 2020-11-22 22:00:35.105371        20.38  42.370614   \n",
       "4  989.942219 2020-11-22 22:00:36.217284        20.39  42.370651   \n",
       "\n",
       "   ANOMALY_SCORE  \n",
       "0              0  \n",
       "1              0  \n",
       "2              0  \n",
       "3              0  \n",
       "4              0  "
      ]
     },
     "execution_count": 32,
     "metadata": {},
     "output_type": "execute_result"
    }
   ],
   "source": [
    "data['ANOMALY_SCORE'] = (data['ANOMALY_SCORE']>2.0).astype(int)\n",
    "data.head()"
   ]
  },
  {
   "cell_type": "raw",
   "metadata": {},
   "source": [
    "Count positive and negative rows in data frame\n",
    "https://stackoverflow.com/questions/17322109/get-dataframe-row-count-based-on-conditions"
   ]
  },
  {
   "cell_type": "code",
   "execution_count": 33,
   "metadata": {},
   "outputs": [
    {
     "data": {
      "text/plain": [
       "PRESSURE         73\n",
       "EVENT_TIME       73\n",
       "TEMPERATURE      73\n",
       "HUMIDITY         73\n",
       "ANOMALY_SCORE    73\n",
       "dtype: int64"
      ]
     },
     "execution_count": 33,
     "metadata": {},
     "output_type": "execute_result"
    }
   ],
   "source": [
    "#postivie labels\n",
    "data[(data['ANOMALY_SCORE']==1)].count()"
   ]
  },
  {
   "cell_type": "code",
   "execution_count": 34,
   "metadata": {},
   "outputs": [
    {
     "data": {
      "text/plain": [
       "PRESSURE         30731\n",
       "EVENT_TIME       30731\n",
       "TEMPERATURE      30731\n",
       "HUMIDITY         30731\n",
       "ANOMALY_SCORE    30731\n",
       "dtype: int64"
      ]
     },
     "execution_count": 34,
     "metadata": {},
     "output_type": "execute_result"
    }
   ],
   "source": [
    "#negative labels\n",
    "data[(data['ANOMALY_SCORE']==0)].count()"
   ]
  },
  {
   "cell_type": "markdown",
   "metadata": {},
   "source": [
    "Over sample postive lables with SMOTE: Synthetic minority over-sampling technique"
   ]
  },
  {
   "cell_type": "code",
   "execution_count": 41,
   "metadata": {},
   "outputs": [
    {
     "ename": "ModuleNotFoundError",
     "evalue": "No module named 'imblearn'",
     "output_type": "error",
     "traceback": [
      "\u001b[0;31m---------------------------------------------------------------------------\u001b[0m",
      "\u001b[0;31mModuleNotFoundError\u001b[0m                       Traceback (most recent call last)",
      "\u001b[0;32m<ipython-input-41-4e1f3649a78b>\u001b[0m in \u001b[0;36m<module>\u001b[0;34m\u001b[0m\n\u001b[0;32m----> 1\u001b[0;31m \u001b[0;32mfrom\u001b[0m \u001b[0mimblearn\u001b[0m\u001b[0;34m.\u001b[0m\u001b[0mover_sampling\u001b[0m \u001b[0;32mimport\u001b[0m \u001b[0mSMOTE\u001b[0m\u001b[0;34m\u001b[0m\u001b[0;34m\u001b[0m\u001b[0m\n\u001b[0m\u001b[1;32m      2\u001b[0m \u001b[0;34m\u001b[0m\u001b[0m\n\u001b[1;32m      3\u001b[0m \u001b[0mX\u001b[0m \u001b[0;34m=\u001b[0m \u001b[0mdata\u001b[0m\u001b[0;34m[\u001b[0m\u001b[0;34m[\u001b[0m\u001b[0;34m'PRESSURE'\u001b[0m\u001b[0;34m,\u001b[0m\u001b[0;34m'EVENT_TIME'\u001b[0m\u001b[0;34m,\u001b[0m\u001b[0;34m'TEMPERATURE'\u001b[0m\u001b[0;34m,\u001b[0m\u001b[0;34m'HUMIDITY'\u001b[0m\u001b[0;34m]\u001b[0m\u001b[0;34m]\u001b[0m\u001b[0;34m\u001b[0m\u001b[0;34m\u001b[0m\u001b[0m\n\u001b[1;32m      4\u001b[0m \u001b[0my\u001b[0m \u001b[0;34m=\u001b[0m \u001b[0mdata\u001b[0m\u001b[0;34m[\u001b[0m\u001b[0;34m'ANOMALY_SCORE'\u001b[0m\u001b[0;34m]\u001b[0m\u001b[0;34m\u001b[0m\u001b[0;34m\u001b[0m\u001b[0m\n\u001b[1;32m      5\u001b[0m \u001b[0;34m\u001b[0m\u001b[0m\n",
      "\u001b[0;31mModuleNotFoundError\u001b[0m: No module named 'imblearn'"
     ]
    }
   ],
   "source": [
    "from imblearn.over_sampling import SMOTE\n",
    "\n",
    "X = data[['PRESSURE','EVENT_TIME','TEMPERATURE','HUMIDITY']]\n",
    "y = data['ANOMALY_SCORE']\n",
    "\n",
    "smote = SMOTE(random_state=0)\n",
    "X_resampled, y_resampled = smote.fit_sample(X, y)\n",
    "X_resampled = pd.DataFrame(X_resampled, columns=X.columns)\n",
    "\n",
    "X_resampled.head()\n"
   ]
  },
  {
   "cell_type": "code",
   "execution_count": 38,
   "metadata": {},
   "outputs": [
    {
     "ename": "SyntaxError",
     "evalue": "invalid syntax (<ipython-input-38-0ee363ae6752>, line 1)",
     "output_type": "error",
     "traceback": [
      "\u001b[0;36m  File \u001b[0;32m\"<ipython-input-38-0ee363ae6752>\"\u001b[0;36m, line \u001b[0;32m1\u001b[0m\n\u001b[0;31m    Spilt data 80 / 20 for training and Validation\u001b[0m\n\u001b[0m             ^\u001b[0m\n\u001b[0;31mSyntaxError\u001b[0m\u001b[0;31m:\u001b[0m invalid syntax\n"
     ]
    }
   ],
   "source": [
    "Spilt data 80 / 20 for training and Validation"
   ]
  },
  {
   "cell_type": "code",
   "execution_count": null,
   "metadata": {},
   "outputs": [],
   "source": []
  },
  {
   "cell_type": "code",
   "execution_count": null,
   "metadata": {},
   "outputs": [],
   "source": []
  },
  {
   "cell_type": "code",
   "execution_count": null,
   "metadata": {},
   "outputs": [],
   "source": []
  },
  {
   "cell_type": "code",
   "execution_count": null,
   "metadata": {},
   "outputs": [],
   "source": []
  },
  {
   "cell_type": "code",
   "execution_count": null,
   "metadata": {},
   "outputs": [],
   "source": []
  }
 ],
 "metadata": {
  "kernelspec": {
   "display_name": "conda_python3",
   "language": "python",
   "name": "conda_python3"
  },
  "language_info": {
   "codemirror_mode": {
    "name": "ipython",
    "version": 3
   },
   "file_extension": ".py",
   "mimetype": "text/x-python",
   "name": "python",
   "nbconvert_exporter": "python",
   "pygments_lexer": "ipython3",
   "version": "3.6.10"
  }
 },
 "nbformat": 4,
 "nbformat_minor": 4
}
